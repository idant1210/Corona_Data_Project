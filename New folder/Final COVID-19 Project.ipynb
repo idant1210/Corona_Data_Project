{
 "cells": [
  {
   "cell_type": "markdown",
   "id": "21bf8778",
   "metadata": {},
   "source": [
    "<h1 style=\"color:#008000;font-size:30px\">  Machine Learning Part Covid-19 Project: </h1>\n",
    "<h3 style=\"color:#8B0000;\">Imported All the necessary libraries:</h3>"
   ]
  },
  {
   "cell_type": "code",
   "execution_count": 8,
   "id": "612b86c0",
   "metadata": {},
   "outputs": [],
   "source": [
    "import pandas as pd\n",
    "import numpy as np\n",
    "import matplotlib as mpl\n",
    "import matplotlib.pyplot as plt      \n",
    "import math\n",
    "import seaborn as sns\n",
    "from collections import Counter\n",
    "import sklearn\n",
    "from sklearn import preprocessing, linear_model, model_selection\n",
    "from sklearn.preprocessing import StandardScaler, MinMaxScaler\n",
    "from sklearn.linear_model import LogisticRegression\n",
    "from sklearn.model_selection import train_test_split\n",
    "from sklearn.ensemble import RandomForestClassifier\n",
    "from datetime import datetime\n",
    "from dateutil.relativedelta import relativedelta\n",
    "plt.rcParams.update({'figure.max_open_warning': 0})"
   ]
  },
  {
   "cell_type": "markdown",
   "id": "e3d26a29",
   "metadata": {},
   "source": [
    "<h3 style=\"color:#8B0000;\">Imported the dataset and extract relevant Data columns:</h3>"
   ]
  },
  {
   "cell_type": "code",
   "execution_count": 9,
   "id": "9e9d3643",
   "metadata": {},
   "outputs": [],
   "source": [
    "\n",
    "date = []\n",
    "new_cases = []\n",
    "total_cases = []\n",
    "new_vaccined = []\n",
    "total_vaccined = []\n",
    "population = []\n",
    "location = []\n",
    "vaccained_of_pop = []\n",
    "ncases_of_pop = []\n",
    "\n",
    "complete_dataset = pd.read_csv(\"owid-covid-data.csv\")\n",
    "complete_dataset.dropna()\n",
    "for index,row in complete_dataset.iterrows():\n",
    "    date.append(row['date'])\n",
    "    new_cases.append(row['new_cases'])\n",
    "    total_cases.append(row['total_cases'])\n",
    "    new_vaccined.append(row['new_vaccinations'])\n",
    "    total_vaccined.append(row['people_fully_vaccinated'])\n",
    "    location.append(row['location'])\n",
    "    population.append(row['population'])\n",
    "    try:\n",
    "        precent = (int(row['people_fully_vaccinated']) / int(row['population'])*100)\n",
    "    except ValueError:\n",
    "        precent= -1\n",
    "    vaccained_of_pop.append(precent)\n",
    "    try:\n",
    "        precent = (int(row['new_cases']) / int(row['population'])*100)\n",
    "    except ValueError:\n",
    "        precent = -1\n",
    "    ncases_of_pop.append(precent)"
   ]
  },
  {
   "cell_type": "markdown",
   "id": "5fc1dbc2",
   "metadata": {},
   "source": [
    "<h3 style=\"color:#8B0000;\">Dataset handeling and spliting to pre vaccaine and after vaccaine:</h3>"
   ]
  },
  {
   "cell_type": "code",
   "execution_count": 11,
   "id": "05211953",
   "metadata": {},
   "outputs": [
    {
     "data": {
      "text/html": [
       "<div>\n",
       "<style scoped>\n",
       "    .dataframe tbody tr th:only-of-type {\n",
       "        vertical-align: middle;\n",
       "    }\n",
       "\n",
       "    .dataframe tbody tr th {\n",
       "        vertical-align: top;\n",
       "    }\n",
       "\n",
       "    .dataframe thead th {\n",
       "        text-align: right;\n",
       "    }\n",
       "</style>\n",
       "<table border=\"1\" class=\"dataframe\">\n",
       "  <thead>\n",
       "    <tr style=\"text-align: right;\">\n",
       "      <th></th>\n",
       "      <th>location</th>\n",
       "      <th>date</th>\n",
       "      <th>new cases</th>\n",
       "      <th>total cases</th>\n",
       "      <th>new vaccined</th>\n",
       "      <th>total vaccined</th>\n",
       "      <th>population</th>\n",
       "      <th>precent of population</th>\n",
       "      <th>new cases of population</th>\n",
       "    </tr>\n",
       "  </thead>\n",
       "  <tbody>\n",
       "    <tr>\n",
       "      <th>442</th>\n",
       "      <td>Afghanistan</td>\n",
       "      <td>2021-05-11</td>\n",
       "      <td>340.0</td>\n",
       "      <td>62403.0</td>\n",
       "      <td>0.0</td>\n",
       "      <td>55624.0</td>\n",
       "      <td>38928341.0</td>\n",
       "      <td>0.142888</td>\n",
       "      <td>0.000873</td>\n",
       "    </tr>\n",
       "    <tr>\n",
       "      <th>451</th>\n",
       "      <td>Afghanistan</td>\n",
       "      <td>2021-05-20</td>\n",
       "      <td>453.0</td>\n",
       "      <td>64575.0</td>\n",
       "      <td>0.0</td>\n",
       "      <td>77560.0</td>\n",
       "      <td>38928341.0</td>\n",
       "      <td>0.199238</td>\n",
       "      <td>0.001164</td>\n",
       "    </tr>\n",
       "    <tr>\n",
       "      <th>455</th>\n",
       "      <td>Afghanistan</td>\n",
       "      <td>2021-05-24</td>\n",
       "      <td>547.0</td>\n",
       "      <td>66275.0</td>\n",
       "      <td>0.0</td>\n",
       "      <td>96910.0</td>\n",
       "      <td>38928341.0</td>\n",
       "      <td>0.248945</td>\n",
       "      <td>0.001405</td>\n",
       "    </tr>\n",
       "    <tr>\n",
       "      <th>457</th>\n",
       "      <td>Afghanistan</td>\n",
       "      <td>2021-05-26</td>\n",
       "      <td>840.0</td>\n",
       "      <td>67743.0</td>\n",
       "      <td>0.0</td>\n",
       "      <td>111082.0</td>\n",
       "      <td>38928341.0</td>\n",
       "      <td>0.285350</td>\n",
       "      <td>0.002158</td>\n",
       "    </tr>\n",
       "    <tr>\n",
       "      <th>458</th>\n",
       "      <td>Afghanistan</td>\n",
       "      <td>2021-05-27</td>\n",
       "      <td>623.0</td>\n",
       "      <td>68366.0</td>\n",
       "      <td>2859.0</td>\n",
       "      <td>113739.0</td>\n",
       "      <td>38928341.0</td>\n",
       "      <td>0.292175</td>\n",
       "      <td>0.001600</td>\n",
       "    </tr>\n",
       "    <tr>\n",
       "      <th>461</th>\n",
       "      <td>Afghanistan</td>\n",
       "      <td>2021-05-30</td>\n",
       "      <td>650.0</td>\n",
       "      <td>70761.0</td>\n",
       "      <td>0.0</td>\n",
       "      <td>119926.0</td>\n",
       "      <td>38928341.0</td>\n",
       "      <td>0.308069</td>\n",
       "      <td>0.001670</td>\n",
       "    </tr>\n",
       "    <tr>\n",
       "      <th>464</th>\n",
       "      <td>Afghanistan</td>\n",
       "      <td>2021-06-02</td>\n",
       "      <td>1049.0</td>\n",
       "      <td>74026.0</td>\n",
       "      <td>0.0</td>\n",
       "      <td>144600.0</td>\n",
       "      <td>38928341.0</td>\n",
       "      <td>0.371452</td>\n",
       "      <td>0.002695</td>\n",
       "    </tr>\n",
       "    <tr>\n",
       "      <th>465</th>\n",
       "      <td>Afghanistan</td>\n",
       "      <td>2021-06-03</td>\n",
       "      <td>1093.0</td>\n",
       "      <td>75119.0</td>\n",
       "      <td>4015.0</td>\n",
       "      <td>148505.0</td>\n",
       "      <td>38928341.0</td>\n",
       "      <td>0.381483</td>\n",
       "      <td>0.002808</td>\n",
       "    </tr>\n",
       "    <tr>\n",
       "      <th>470</th>\n",
       "      <td>Afghanistan</td>\n",
       "      <td>2021-06-08</td>\n",
       "      <td>1485.0</td>\n",
       "      <td>82326.0</td>\n",
       "      <td>0.0</td>\n",
       "      <td>158343.0</td>\n",
       "      <td>38928341.0</td>\n",
       "      <td>0.406755</td>\n",
       "      <td>0.003815</td>\n",
       "    </tr>\n",
       "    <tr>\n",
       "      <th>476</th>\n",
       "      <td>Afghanistan</td>\n",
       "      <td>2021-06-14</td>\n",
       "      <td>1597.0</td>\n",
       "      <td>91458.0</td>\n",
       "      <td>0.0</td>\n",
       "      <td>177266.0</td>\n",
       "      <td>38928341.0</td>\n",
       "      <td>0.455365</td>\n",
       "      <td>0.004102</td>\n",
       "    </tr>\n",
       "  </tbody>\n",
       "</table>\n",
       "</div>"
      ],
      "text/plain": [
       "        location       date  new cases  total cases  new vaccined  \\\n",
       "442  Afghanistan 2021-05-11      340.0      62403.0           0.0   \n",
       "451  Afghanistan 2021-05-20      453.0      64575.0           0.0   \n",
       "455  Afghanistan 2021-05-24      547.0      66275.0           0.0   \n",
       "457  Afghanistan 2021-05-26      840.0      67743.0           0.0   \n",
       "458  Afghanistan 2021-05-27      623.0      68366.0        2859.0   \n",
       "461  Afghanistan 2021-05-30      650.0      70761.0           0.0   \n",
       "464  Afghanistan 2021-06-02     1049.0      74026.0           0.0   \n",
       "465  Afghanistan 2021-06-03     1093.0      75119.0        4015.0   \n",
       "470  Afghanistan 2021-06-08     1485.0      82326.0           0.0   \n",
       "476  Afghanistan 2021-06-14     1597.0      91458.0           0.0   \n",
       "\n",
       "     total vaccined  population  precent of population  \\\n",
       "442         55624.0  38928341.0               0.142888   \n",
       "451         77560.0  38928341.0               0.199238   \n",
       "455         96910.0  38928341.0               0.248945   \n",
       "457        111082.0  38928341.0               0.285350   \n",
       "458        113739.0  38928341.0               0.292175   \n",
       "461        119926.0  38928341.0               0.308069   \n",
       "464        144600.0  38928341.0               0.371452   \n",
       "465        148505.0  38928341.0               0.381483   \n",
       "470        158343.0  38928341.0               0.406755   \n",
       "476        177266.0  38928341.0               0.455365   \n",
       "\n",
       "     new cases of population  \n",
       "442                 0.000873  \n",
       "451                 0.001164  \n",
       "455                 0.001405  \n",
       "457                 0.002158  \n",
       "458                 0.001600  \n",
       "461                 0.001670  \n",
       "464                 0.002695  \n",
       "465                 0.002808  \n",
       "470                 0.003815  \n",
       "476                 0.004102  "
      ]
     },
     "execution_count": 11,
     "metadata": {},
     "output_type": "execute_result"
    },
    {
     "data": {
      "image/png": "[encoded data removed]",
      "text/plain": [
       "<Figure size 432x288 with 2 Axes>"
      ]
     },
     "metadata": {
      "needs_background": "light"
     },
     "output_type": "display_data"
    }
   ],
   "source": [
    "updated_df = pd.DataFrame({\"location\": location,\"date\":date,\"new cases\":new_cases,\"total cases\":total_cases,\"new vaccined\":new_vaccined,\"total vaccined\":total_vaccined,\"population\":population,\"precent of population\":vaccained_of_pop,\"new cases of population\":ncases_of_pop})\n",
    "updated_df = updated_df.fillna(0.0)\n",
    "updated_df['date'] = pd.to_datetime(updated_df['date'])\n",
    "new_df = (updated_df.where(updated_df['total vaccined'] != 0)).dropna()\n",
    "day_count = pd.DataFrame({\"location\": new_df['location'],\"day count\": int(0),\"new cases\":new_df['new cases'],\"total cases\":new_df['total cases'],\"new vaccined\":new_df['new vaccined'],\"total vaccined\":new_df['total vaccined'],\"population\":new_df['population'],\"precent of population\":new_df['precent of population'],\"new cases of population\":new_df['new cases of population']})\n",
    "for location in day_count['location'].drop_duplicates():\n",
    "    i=1\n",
    "    for index, row in (day_count.where(day_count['location']==location).dropna()).iterrows():\n",
    "        day_count.at[index,['day count']] = i\n",
    "        i = i+1\n",
    "for location in day_count.drop_duplicates('location')['location']:\n",
    "    fig, axs = plt.subplots(2)\n",
    "    axs[0].plot(day_count['day count'].where(day_count['location'] == location).dropna() ,day_count['precent of population'].where(day_count['location'] == location).dropna(),linewidth=2.0,label = location , linestyle = \"-\", color = \"#FF0000\")\n",
    "    axs[1].plot(day_count['day count'].where(day_count['location'] == location).dropna() ,day_count['new cases of population'].where(day_count['location'] == location).dropna(),linewidth=2.0,label = location , linestyle = \"-\", color = \"#4400FF\")\n",
    "    axs[0].legend()\n",
    "    axs[1].legend()\n",
    "    fig.savefig('./countrys/'+location+'.png', bbox_inches='tight')\n",
    "new_df.head(10)\n"
   ]
  },
  {
   "cell_type": "markdown",
   "id": "0479377e",
   "metadata": {},
   "source": [
    "<h3 style=\"color:#8B0000;\">Extract some new features(Day, Dayofweek, Month, year) from date column:</h3>"
   ]
  },
  {
   "cell_type": "code",
   "execution_count": 12,
   "id": "7690b3b9",
   "metadata": {},
   "outputs": [
    {
     "data": {
      "text/html": [
       "<div>\n",
       "<style scoped>\n",
       "    .dataframe tbody tr th:only-of-type {\n",
       "        vertical-align: middle;\n",
       "    }\n",
       "\n",
       "    .dataframe tbody tr th {\n",
       "        vertical-align: top;\n",
       "    }\n",
       "\n",
       "    .dataframe thead th {\n",
       "        text-align: right;\n",
       "    }\n",
       "</style>\n",
       "<table border=\"1\" class=\"dataframe\">\n",
       "  <thead>\n",
       "    <tr style=\"text-align: right;\">\n",
       "      <th></th>\n",
       "      <th>location</th>\n",
       "      <th>day count</th>\n",
       "      <th>new cases</th>\n",
       "      <th>total cases</th>\n",
       "      <th>new vaccined</th>\n",
       "      <th>total vaccined</th>\n",
       "      <th>population</th>\n",
       "      <th>precent of population</th>\n",
       "      <th>new cases of population</th>\n",
       "      <th>Day</th>\n",
       "      <th>Dayofweek</th>\n",
       "      <th>Month</th>\n",
       "      <th>year</th>\n",
       "    </tr>\n",
       "  </thead>\n",
       "  <tbody>\n",
       "    <tr>\n",
       "      <th>96638</th>\n",
       "      <td>Afghanistan</td>\n",
       "      <td>11376</td>\n",
       "      <td>24.0</td>\n",
       "      <td>39168.0</td>\n",
       "      <td>5713.0</td>\n",
       "      <td>375315.0</td>\n",
       "      <td>14862927.0</td>\n",
       "      <td>2.525176</td>\n",
       "      <td>0.000161</td>\n",
       "      <td>5</td>\n",
       "      <td>5</td>\n",
       "      <td>6</td>\n",
       "      <td>2021</td>\n",
       "    </tr>\n",
       "    <tr>\n",
       "      <th>96639</th>\n",
       "      <td>Afghanistan</td>\n",
       "      <td>11377</td>\n",
       "      <td>21.0</td>\n",
       "      <td>39189.0</td>\n",
       "      <td>6156.0</td>\n",
       "      <td>380786.0</td>\n",
       "      <td>14862927.0</td>\n",
       "      <td>2.561985</td>\n",
       "      <td>0.000141</td>\n",
       "      <td>6</td>\n",
       "      <td>6</td>\n",
       "      <td>6</td>\n",
       "      <td>2021</td>\n",
       "    </tr>\n",
       "    <tr>\n",
       "      <th>96640</th>\n",
       "      <td>Afghanistan</td>\n",
       "      <td>11378</td>\n",
       "      <td>49.0</td>\n",
       "      <td>39238.0</td>\n",
       "      <td>5864.0</td>\n",
       "      <td>385275.0</td>\n",
       "      <td>14862927.0</td>\n",
       "      <td>2.592188</td>\n",
       "      <td>0.000330</td>\n",
       "      <td>7</td>\n",
       "      <td>0</td>\n",
       "      <td>6</td>\n",
       "      <td>2021</td>\n",
       "    </tr>\n",
       "    <tr>\n",
       "      <th>96641</th>\n",
       "      <td>Afghanistan</td>\n",
       "      <td>11379</td>\n",
       "      <td>83.0</td>\n",
       "      <td>39321.0</td>\n",
       "      <td>4838.0</td>\n",
       "      <td>389412.0</td>\n",
       "      <td>14862927.0</td>\n",
       "      <td>2.620022</td>\n",
       "      <td>0.000558</td>\n",
       "      <td>8</td>\n",
       "      <td>1</td>\n",
       "      <td>6</td>\n",
       "      <td>2021</td>\n",
       "    </tr>\n",
       "    <tr>\n",
       "      <th>96642</th>\n",
       "      <td>Afghanistan</td>\n",
       "      <td>11380</td>\n",
       "      <td>111.0</td>\n",
       "      <td>39432.0</td>\n",
       "      <td>5174.0</td>\n",
       "      <td>394063.0</td>\n",
       "      <td>14862927.0</td>\n",
       "      <td>2.651315</td>\n",
       "      <td>0.000747</td>\n",
       "      <td>9</td>\n",
       "      <td>2</td>\n",
       "      <td>6</td>\n",
       "      <td>2021</td>\n",
       "    </tr>\n",
       "    <tr>\n",
       "      <th>96643</th>\n",
       "      <td>Afghanistan</td>\n",
       "      <td>11381</td>\n",
       "      <td>64.0</td>\n",
       "      <td>39496.0</td>\n",
       "      <td>5523.0</td>\n",
       "      <td>399054.0</td>\n",
       "      <td>14862927.0</td>\n",
       "      <td>2.684895</td>\n",
       "      <td>0.000431</td>\n",
       "      <td>10</td>\n",
       "      <td>3</td>\n",
       "      <td>6</td>\n",
       "      <td>2021</td>\n",
       "    </tr>\n",
       "    <tr>\n",
       "      <th>96644</th>\n",
       "      <td>Afghanistan</td>\n",
       "      <td>11382</td>\n",
       "      <td>192.0</td>\n",
       "      <td>39688.0</td>\n",
       "      <td>7348.0</td>\n",
       "      <td>405603.0</td>\n",
       "      <td>14862927.0</td>\n",
       "      <td>2.728958</td>\n",
       "      <td>0.001292</td>\n",
       "      <td>11</td>\n",
       "      <td>4</td>\n",
       "      <td>6</td>\n",
       "      <td>2021</td>\n",
       "    </tr>\n",
       "    <tr>\n",
       "      <th>96645</th>\n",
       "      <td>Afghanistan</td>\n",
       "      <td>11383</td>\n",
       "      <td>164.0</td>\n",
       "      <td>39852.0</td>\n",
       "      <td>6544.0</td>\n",
       "      <td>411218.0</td>\n",
       "      <td>14862927.0</td>\n",
       "      <td>2.766736</td>\n",
       "      <td>0.001103</td>\n",
       "      <td>12</td>\n",
       "      <td>5</td>\n",
       "      <td>6</td>\n",
       "      <td>2021</td>\n",
       "    </tr>\n",
       "    <tr>\n",
       "      <th>96646</th>\n",
       "      <td>Afghanistan</td>\n",
       "      <td>11384</td>\n",
       "      <td>107.0</td>\n",
       "      <td>39959.0</td>\n",
       "      <td>3660.0</td>\n",
       "      <td>413911.0</td>\n",
       "      <td>14862927.0</td>\n",
       "      <td>2.784855</td>\n",
       "      <td>0.000720</td>\n",
       "      <td>13</td>\n",
       "      <td>6</td>\n",
       "      <td>6</td>\n",
       "      <td>2021</td>\n",
       "    </tr>\n",
       "    <tr>\n",
       "      <th>96647</th>\n",
       "      <td>Afghanistan</td>\n",
       "      <td>11385</td>\n",
       "      <td>118.0</td>\n",
       "      <td>40077.0</td>\n",
       "      <td>1145.0</td>\n",
       "      <td>414635.0</td>\n",
       "      <td>14862927.0</td>\n",
       "      <td>2.789726</td>\n",
       "      <td>0.000794</td>\n",
       "      <td>14</td>\n",
       "      <td>0</td>\n",
       "      <td>6</td>\n",
       "      <td>2021</td>\n",
       "    </tr>\n",
       "  </tbody>\n",
       "</table>\n",
       "</div>"
      ],
      "text/plain": [
       "          location  day count  new cases  total cases  new vaccined  \\\n",
       "96638  Afghanistan      11376       24.0      39168.0        5713.0   \n",
       "96639  Afghanistan      11377       21.0      39189.0        6156.0   \n",
       "96640  Afghanistan      11378       49.0      39238.0        5864.0   \n",
       "96641  Afghanistan      11379       83.0      39321.0        4838.0   \n",
       "96642  Afghanistan      11380      111.0      39432.0        5174.0   \n",
       "96643  Afghanistan      11381       64.0      39496.0        5523.0   \n",
       "96644  Afghanistan      11382      192.0      39688.0        7348.0   \n",
       "96645  Afghanistan      11383      164.0      39852.0        6544.0   \n",
       "96646  Afghanistan      11384      107.0      39959.0        3660.0   \n",
       "96647  Afghanistan      11385      118.0      40077.0        1145.0   \n",
       "\n",
       "       total vaccined  population  precent of population  \\\n",
       "96638        375315.0  14862927.0               2.525176   \n",
       "96639        380786.0  14862927.0               2.561985   \n",
       "96640        385275.0  14862927.0               2.592188   \n",
       "96641        389412.0  14862927.0               2.620022   \n",
       "96642        394063.0  14862927.0               2.651315   \n",
       "96643        399054.0  14862927.0               2.684895   \n",
       "96644        405603.0  14862927.0               2.728958   \n",
       "96645        411218.0  14862927.0               2.766736   \n",
       "96646        413911.0  14862927.0               2.784855   \n",
       "96647        414635.0  14862927.0               2.789726   \n",
       "\n",
       "       new cases of population  Day  Dayofweek  Month  year  \n",
       "96638                 0.000161    5          5      6  2021  \n",
       "96639                 0.000141    6          6      6  2021  \n",
       "96640                 0.000330    7          0      6  2021  \n",
       "96641                 0.000558    8          1      6  2021  \n",
       "96642                 0.000747    9          2      6  2021  \n",
       "96643                 0.000431   10          3      6  2021  \n",
       "96644                 0.001292   11          4      6  2021  \n",
       "96645                 0.001103   12          5      6  2021  \n",
       "96646                 0.000720   13          6      6  2021  \n",
       "96647                 0.000794   14          0      6  2021  "
      ]
     },
     "execution_count": 12,
     "metadata": {},
     "output_type": "execute_result"
    }
   ],
   "source": [
    "day_count['Day'] = new_df['date'].dt.day\n",
    "day_count['Dayofweek'] = new_df['date'].dt.dayofweek\n",
    "day_count['Month'] = new_df['date'].dt.month\n",
    "day_count['year'] = new_df['date'].dt.year\n",
    "\n",
    "\n",
    "day_count.tail(10)"
   ]
  },
  {
   "cell_type": "markdown",
   "id": "92eadfc6",
   "metadata": {},
   "source": [
    "<h3 style=\"color:#8B0000;\">Encode location column using LabelEncoder :</h3>"
   ]
  },
  {
   "cell_type": "code",
   "execution_count": 13,
   "id": "b0e6b0ed",
   "metadata": {},
   "outputs": [
    {
     "data": {
      "text/html": [
       "<div>\n",
       "<style scoped>\n",
       "    .dataframe tbody tr th:only-of-type {\n",
       "        vertical-align: middle;\n",
       "    }\n",
       "\n",
       "    .dataframe tbody tr th {\n",
       "        vertical-align: top;\n",
       "    }\n",
       "\n",
       "    .dataframe thead th {\n",
       "        text-align: right;\n",
       "    }\n",
       "</style>\n",
       "<table border=\"1\" class=\"dataframe\">\n",
       "  <thead>\n",
       "    <tr style=\"text-align: right;\">\n",
       "      <th></th>\n",
       "      <th>location</th>\n",
       "      <th>day count</th>\n",
       "      <th>new cases</th>\n",
       "      <th>total cases</th>\n",
       "      <th>new vaccined</th>\n",
       "      <th>total vaccined</th>\n",
       "      <th>population</th>\n",
       "      <th>precent of population</th>\n",
       "      <th>new cases of population</th>\n",
       "      <th>Day</th>\n",
       "      <th>Dayofweek</th>\n",
       "      <th>Month</th>\n",
       "      <th>year</th>\n",
       "    </tr>\n",
       "  </thead>\n",
       "  <tbody>\n",
       "    <tr>\n",
       "      <th>96638</th>\n",
       "      <td>0</td>\n",
       "      <td>11376</td>\n",
       "      <td>24.0</td>\n",
       "      <td>39168.0</td>\n",
       "      <td>5713.0</td>\n",
       "      <td>375315.0</td>\n",
       "      <td>14862927.0</td>\n",
       "      <td>2.525176</td>\n",
       "      <td>0.000161</td>\n",
       "      <td>5</td>\n",
       "      <td>5</td>\n",
       "      <td>6</td>\n",
       "      <td>2021</td>\n",
       "    </tr>\n",
       "    <tr>\n",
       "      <th>96639</th>\n",
       "      <td>0</td>\n",
       "      <td>11377</td>\n",
       "      <td>21.0</td>\n",
       "      <td>39189.0</td>\n",
       "      <td>6156.0</td>\n",
       "      <td>380786.0</td>\n",
       "      <td>14862927.0</td>\n",
       "      <td>2.561985</td>\n",
       "      <td>0.000141</td>\n",
       "      <td>6</td>\n",
       "      <td>6</td>\n",
       "      <td>6</td>\n",
       "      <td>2021</td>\n",
       "    </tr>\n",
       "    <tr>\n",
       "      <th>96640</th>\n",
       "      <td>0</td>\n",
       "      <td>11378</td>\n",
       "      <td>49.0</td>\n",
       "      <td>39238.0</td>\n",
       "      <td>5864.0</td>\n",
       "      <td>385275.0</td>\n",
       "      <td>14862927.0</td>\n",
       "      <td>2.592188</td>\n",
       "      <td>0.000330</td>\n",
       "      <td>7</td>\n",
       "      <td>0</td>\n",
       "      <td>6</td>\n",
       "      <td>2021</td>\n",
       "    </tr>\n",
       "    <tr>\n",
       "      <th>96641</th>\n",
       "      <td>0</td>\n",
       "      <td>11379</td>\n",
       "      <td>83.0</td>\n",
       "      <td>39321.0</td>\n",
       "      <td>4838.0</td>\n",
       "      <td>389412.0</td>\n",
       "      <td>14862927.0</td>\n",
       "      <td>2.620022</td>\n",
       "      <td>0.000558</td>\n",
       "      <td>8</td>\n",
       "      <td>1</td>\n",
       "      <td>6</td>\n",
       "      <td>2021</td>\n",
       "    </tr>\n",
       "    <tr>\n",
       "      <th>96642</th>\n",
       "      <td>0</td>\n",
       "      <td>11380</td>\n",
       "      <td>111.0</td>\n",
       "      <td>39432.0</td>\n",
       "      <td>5174.0</td>\n",
       "      <td>394063.0</td>\n",
       "      <td>14862927.0</td>\n",
       "      <td>2.651315</td>\n",
       "      <td>0.000747</td>\n",
       "      <td>9</td>\n",
       "      <td>2</td>\n",
       "      <td>6</td>\n",
       "      <td>2021</td>\n",
       "    </tr>\n",
       "    <tr>\n",
       "      <th>96643</th>\n",
       "      <td>0</td>\n",
       "      <td>11381</td>\n",
       "      <td>64.0</td>\n",
       "      <td>39496.0</td>\n",
       "      <td>5523.0</td>\n",
       "      <td>399054.0</td>\n",
       "      <td>14862927.0</td>\n",
       "      <td>2.684895</td>\n",
       "      <td>0.000431</td>\n",
       "      <td>10</td>\n",
       "      <td>3</td>\n",
       "      <td>6</td>\n",
       "      <td>2021</td>\n",
       "    </tr>\n",
       "    <tr>\n",
       "      <th>96644</th>\n",
       "      <td>0</td>\n",
       "      <td>11382</td>\n",
       "      <td>192.0</td>\n",
       "      <td>39688.0</td>\n",
       "      <td>7348.0</td>\n",
       "      <td>405603.0</td>\n",
       "      <td>14862927.0</td>\n",
       "      <td>2.728958</td>\n",
       "      <td>0.001292</td>\n",
       "      <td>11</td>\n",
       "      <td>4</td>\n",
       "      <td>6</td>\n",
       "      <td>2021</td>\n",
       "    </tr>\n",
       "    <tr>\n",
       "      <th>96645</th>\n",
       "      <td>0</td>\n",
       "      <td>11383</td>\n",
       "      <td>164.0</td>\n",
       "      <td>39852.0</td>\n",
       "      <td>6544.0</td>\n",
       "      <td>411218.0</td>\n",
       "      <td>14862927.0</td>\n",
       "      <td>2.766736</td>\n",
       "      <td>0.001103</td>\n",
       "      <td>12</td>\n",
       "      <td>5</td>\n",
       "      <td>6</td>\n",
       "      <td>2021</td>\n",
       "    </tr>\n",
       "    <tr>\n",
       "      <th>96646</th>\n",
       "      <td>0</td>\n",
       "      <td>11384</td>\n",
       "      <td>107.0</td>\n",
       "      <td>39959.0</td>\n",
       "      <td>3660.0</td>\n",
       "      <td>413911.0</td>\n",
       "      <td>14862927.0</td>\n",
       "      <td>2.784855</td>\n",
       "      <td>0.000720</td>\n",
       "      <td>13</td>\n",
       "      <td>6</td>\n",
       "      <td>6</td>\n",
       "      <td>2021</td>\n",
       "    </tr>\n",
       "    <tr>\n",
       "      <th>96647</th>\n",
       "      <td>0</td>\n",
       "      <td>11385</td>\n",
       "      <td>118.0</td>\n",
       "      <td>40077.0</td>\n",
       "      <td>1145.0</td>\n",
       "      <td>414635.0</td>\n",
       "      <td>14862927.0</td>\n",
       "      <td>2.789726</td>\n",
       "      <td>0.000794</td>\n",
       "      <td>14</td>\n",
       "      <td>0</td>\n",
       "      <td>6</td>\n",
       "      <td>2021</td>\n",
       "    </tr>\n",
       "  </tbody>\n",
       "</table>\n",
       "</div>"
      ],
      "text/plain": [
       "       location  day count  new cases  total cases  new vaccined  \\\n",
       "96638         0      11376       24.0      39168.0        5713.0   \n",
       "96639         0      11377       21.0      39189.0        6156.0   \n",
       "96640         0      11378       49.0      39238.0        5864.0   \n",
       "96641         0      11379       83.0      39321.0        4838.0   \n",
       "96642         0      11380      111.0      39432.0        5174.0   \n",
       "96643         0      11381       64.0      39496.0        5523.0   \n",
       "96644         0      11382      192.0      39688.0        7348.0   \n",
       "96645         0      11383      164.0      39852.0        6544.0   \n",
       "96646         0      11384      107.0      39959.0        3660.0   \n",
       "96647         0      11385      118.0      40077.0        1145.0   \n",
       "\n",
       "       total vaccined  population  precent of population  \\\n",
       "96638        375315.0  14862927.0               2.525176   \n",
       "96639        380786.0  14862927.0               2.561985   \n",
       "96640        385275.0  14862927.0               2.592188   \n",
       "96641        389412.0  14862927.0               2.620022   \n",
       "96642        394063.0  14862927.0               2.651315   \n",
       "96643        399054.0  14862927.0               2.684895   \n",
       "96644        405603.0  14862927.0               2.728958   \n",
       "96645        411218.0  14862927.0               2.766736   \n",
       "96646        413911.0  14862927.0               2.784855   \n",
       "96647        414635.0  14862927.0               2.789726   \n",
       "\n",
       "       new cases of population  Day  Dayofweek  Month  year  \n",
       "96638                 0.000161    5          5      6  2021  \n",
       "96639                 0.000141    6          6      6  2021  \n",
       "96640                 0.000330    7          0      6  2021  \n",
       "96641                 0.000558    8          1      6  2021  \n",
       "96642                 0.000747    9          2      6  2021  \n",
       "96643                 0.000431   10          3      6  2021  \n",
       "96644                 0.001292   11          4      6  2021  \n",
       "96645                 0.001103   12          5      6  2021  \n",
       "96646                 0.000720   13          6      6  2021  \n",
       "96647                 0.000794   14          0      6  2021  "
      ]
     },
     "execution_count": 13,
     "metadata": {},
     "output_type": "execute_result"
    }
   ],
   "source": [
    "from sklearn.preprocessing import LabelEncoder\n",
    "encoder=LabelEncoder()\n",
    "day_count['location'] = encoder.fit_transform(day_count.location)\n",
    "day_count.tail(10)"
   ]
  },
  {
   "cell_type": "markdown",
   "id": "b94a4225",
   "metadata": {},
   "source": [
    "<h1 style=\"color:#008000;font-size:30px\">  Machine Learning Part for 'precent of population' </h1>"
   ]
  },
  {
   "cell_type": "markdown",
   "id": "0df01760",
   "metadata": {},
   "source": [
    "<h3 style=\"color:#8B0000;\">Make a copy of the day_count data frame to df1:</h3>"
   ]
  },
  {
   "cell_type": "code",
   "execution_count": 14,
   "id": "a630551f",
   "metadata": {},
   "outputs": [],
   "source": [
    "df1 = day_count.copy()"
   ]
  },
  {
   "cell_type": "markdown",
   "id": "a3a2dac7",
   "metadata": {},
   "source": [
    "<h3 style=\"color:#8B0000;\"> Make the histograme of 'precent of population' column to see the distribution:</h3>"
   ]
  },
  {
   "cell_type": "code",
   "execution_count": 15,
   "id": "8523d5ed",
   "metadata": {},
   "outputs": [
    {
     "data": {
      "image/png": "[encoded data removed]",
      "text/plain": [
       "<Figure size 864x576 with 1 Axes>"
      ]
     },
     "metadata": {
      "needs_background": "light"
     },
     "output_type": "display_data"
    }
   ],
   "source": [
    "df1[\"precent of population\"].hist(figsize=(12,8))\n",
    "plt.xlabel(\"Distribution\",fontsize = 12)\n",
    "plt.ylabel(\"Values\",fontsize = 12)\n",
    "plt.title(\"precent of population\",fontsize = 12)\n",
    "plt.show()"
   ]
  },
  {
   "cell_type": "markdown",
   "id": "429f8d77",
   "metadata": {},
   "source": [
    "<h3 style=\"color:#8B0000;\"> Take log of 'precent of population' column to make the histogram standard:</h3>"
   ]
  },
  {
   "cell_type": "code",
   "execution_count": 16,
   "id": "c0333c59",
   "metadata": {},
   "outputs": [
    {
     "name": "stderr",
     "output_type": "stream",
     "text": [
      "c:\\users\\idan\\appdata\\local\\programs\\python\\python38\\lib\\site-packages\\pandas\\core\\arraylike.py:358: RuntimeWarning: divide by zero encountered in log1p\n",
      "  result = getattr(ufunc, method)(*inputs, **kwargs)\n"
     ]
    },
    {
     "data": {
      "text/plain": [
       "<AxesSubplot:>"
      ]
     },
     "execution_count": 16,
     "metadata": {},
     "output_type": "execute_result"
    },
    {
     "data": {
      "image/png": "[encoded data removed]",
      "text/plain": [
       "<Figure size 864x576 with 1 Axes>"
      ]
     },
     "metadata": {
      "needs_background": "light"
     },
     "output_type": "display_data"
    }
   ],
   "source": [
    "df1 = df1[df1['precent of population'] < 50]\n",
    "df1.reset_index(drop=True, inplace=True)\n",
    "df1['precent of population'] = np.log1p(df1['precent of population'])\n",
    "df1= df1[np.isfinite(df1['precent of population'])]\n",
    "df1['precent of population'].hist(figsize=(12,8))"
   ]
  },
  {
   "cell_type": "markdown",
   "id": "77ed47e1",
   "metadata": {},
   "source": [
    " <h3 style=\"color:#8B0000;\"> Storing Features into \"X\" matrix and Response (precent of population) into \"y\" vector:</h3>"
   ]
  },
  {
   "cell_type": "code",
   "execution_count": 17,
   "id": "34d5240a",
   "metadata": {},
   "outputs": [],
   "source": [
    "#Features\n",
    "X = df1.loc[:,df1.columns != 'precent of population']\n",
    "#Response\n",
    "y = df1['precent of population']  "
   ]
  },
  {
   "cell_type": "markdown",
   "id": "e7382583",
   "metadata": {},
   "source": [
    "<h3 style=\"color:#8B0000;\">Divide the dataset into training set and testing set (80 percent train and 20 percent test):</h3>"
   ]
  },
  {
   "cell_type": "code",
   "execution_count": 18,
   "id": "54611772",
   "metadata": {},
   "outputs": [],
   "source": [
    "from sklearn.model_selection import train_test_split\n",
    "X_train, X_test, y_train, y_test = train_test_split(X, y, test_size=0.20, random_state=0)  "
   ]
  },
  {
   "cell_type": "markdown",
   "id": "fe6eee68",
   "metadata": {},
   "source": [
    "## Decision Tree  Regression Model:\n",
    "\n",
    "<h3 style=\"color:#8B0000;\">Import DecisionTreeRegressor from sklearn tree class:</h3>\n"
   ]
  },
  {
   "cell_type": "code",
   "execution_count": 19,
   "id": "65575cbb",
   "metadata": {},
   "outputs": [],
   "source": [
    "from sklearn.tree import DecisionTreeRegressor"
   ]
  },
  {
   "cell_type": "markdown",
   "id": "8b822077",
   "metadata": {},
   "source": [
    "<h3 style=\"color:#8B0000;\">Initialize the DecisionTreeRegressor model with  default parameters:</h3>"
   ]
  },
  {
   "cell_type": "code",
   "execution_count": 20,
   "id": "2174bbe8",
   "metadata": {},
   "outputs": [],
   "source": [
    "Dt_regressor = DecisionTreeRegressor()"
   ]
  },
  {
   "cell_type": "markdown",
   "id": "799d82ce",
   "metadata": {},
   "source": [
    "<h3 style=\"color:#8B0000;\">Train the DecisionTreeRegressor model on trainig data set:</h3>"
   ]
  },
  {
   "cell_type": "code",
   "execution_count": 21,
   "id": "8c8515dc",
   "metadata": {},
   "outputs": [
    {
     "data": {
      "text/plain": [
       "DecisionTreeRegressor()"
      ]
     },
     "execution_count": 21,
     "metadata": {},
     "output_type": "execute_result"
    }
   ],
   "source": [
    "Dt_regressor.fit(X_train, y_train)"
   ]
  },
  {
   "cell_type": "markdown",
   "id": "3bc69602",
   "metadata": {},
   "source": [
    "<h3 style=\"color:#8B0000;\">Make predictions using DecisionTreeRegressor and display the first 30 predicted values:</h3>"
   ]
  },
  {
   "cell_type": "code",
   "execution_count": 22,
   "id": "50c75a1d",
   "metadata": {},
   "outputs": [
    {
     "data": {
      "text/plain": [
       "array([2.04177007e+00, 7.18781529e-01, 3.79356476e+00, 1.40763877e+00,\n",
       "       1.59325253e+00, 1.09663032e-01, 2.30609036e+00, 8.00289385e-05,\n",
       "       1.09278468e+00, 2.45378305e+00, 1.96648057e-01, 7.66771324e-01,\n",
       "       1.11908979e+00, 1.61371985e+00, 1.22345012e+00, 3.33275638e+00,\n",
       "       2.24165596e+00, 1.44953337e+00, 2.75093643e+00, 2.22995545e-01,\n",
       "       8.25880749e-02, 1.68027502e+00, 1.56668149e+00, 2.06247465e+00,\n",
       "       1.21218647e+00, 1.51190464e+00, 2.55225027e-01, 1.53960797e+00,\n",
       "       2.10092483e-02, 2.98725478e+00])"
      ]
     },
     "execution_count": 22,
     "metadata": {},
     "output_type": "execute_result"
    }
   ],
   "source": [
    "y_pred = Dt_regressor.predict(X_test)\n",
    "y_pred[0:30]"
   ]
  },
  {
   "cell_type": "markdown",
   "id": "58c24092",
   "metadata": {},
   "source": [
    "<h3 style=\"color:#8B0000;\">Compare the Actual Vs Predictd Values in the Test Set:</h3>"
   ]
  },
  {
   "cell_type": "code",
   "execution_count": 23,
   "id": "788b3e56",
   "metadata": {},
   "outputs": [
    {
     "data": {
      "text/html": [
       "<div>\n",
       "<style scoped>\n",
       "    .dataframe tbody tr th:only-of-type {\n",
       "        vertical-align: middle;\n",
       "    }\n",
       "\n",
       "    .dataframe tbody tr th {\n",
       "        vertical-align: top;\n",
       "    }\n",
       "\n",
       "    .dataframe thead th {\n",
       "        text-align: right;\n",
       "    }\n",
       "</style>\n",
       "<table border=\"1\" class=\"dataframe\">\n",
       "  <thead>\n",
       "    <tr style=\"text-align: right;\">\n",
       "      <th></th>\n",
       "      <th>Actual</th>\n",
       "      <th>Predicted</th>\n",
       "    </tr>\n",
       "  </thead>\n",
       "  <tbody>\n",
       "    <tr>\n",
       "      <th>1156</th>\n",
       "      <td>2.051371</td>\n",
       "      <td>2.041770</td>\n",
       "    </tr>\n",
       "    <tr>\n",
       "      <th>10624</th>\n",
       "      <td>0.698625</td>\n",
       "      <td>0.718782</td>\n",
       "    </tr>\n",
       "    <tr>\n",
       "      <th>10610</th>\n",
       "      <td>3.804133</td>\n",
       "      <td>3.793565</td>\n",
       "    </tr>\n",
       "    <tr>\n",
       "      <th>8277</th>\n",
       "      <td>1.419651</td>\n",
       "      <td>1.407639</td>\n",
       "    </tr>\n",
       "    <tr>\n",
       "      <th>5094</th>\n",
       "      <td>1.663486</td>\n",
       "      <td>1.593253</td>\n",
       "    </tr>\n",
       "    <tr>\n",
       "      <th>9622</th>\n",
       "      <td>0.096846</td>\n",
       "      <td>0.109663</td>\n",
       "    </tr>\n",
       "    <tr>\n",
       "      <th>10289</th>\n",
       "      <td>2.301293</td>\n",
       "      <td>2.306090</td>\n",
       "    </tr>\n",
       "    <tr>\n",
       "      <th>4488</th>\n",
       "      <td>0.000080</td>\n",
       "      <td>0.000080</td>\n",
       "    </tr>\n",
       "    <tr>\n",
       "      <th>10771</th>\n",
       "      <td>1.092283</td>\n",
       "      <td>1.092785</td>\n",
       "    </tr>\n",
       "    <tr>\n",
       "      <th>6897</th>\n",
       "      <td>2.396177</td>\n",
       "      <td>2.453783</td>\n",
       "    </tr>\n",
       "  </tbody>\n",
       "</table>\n",
       "</div>"
      ],
      "text/plain": [
       "         Actual  Predicted\n",
       "1156   2.051371   2.041770\n",
       "10624  0.698625   0.718782\n",
       "10610  3.804133   3.793565\n",
       "8277   1.419651   1.407639\n",
       "5094   1.663486   1.593253\n",
       "9622   0.096846   0.109663\n",
       "10289  2.301293   2.306090\n",
       "4488   0.000080   0.000080\n",
       "10771  1.092283   1.092785\n",
       "6897   2.396177   2.453783"
      ]
     },
     "execution_count": 23,
     "metadata": {},
     "output_type": "execute_result"
    }
   ],
   "source": [
    "df2 = pd.DataFrame({'Actual': y_test, 'Predicted': y_pred})  \n",
    "df2.head(10)  "
   ]
  },
  {
   "cell_type": "markdown",
   "id": "8bfbafe7",
   "metadata": {},
   "source": [
    "<h3 style=\"color:#8B0000;\"> Evaluate the DecisionTreeRegressor Model Using R2 and  RMSE evaluation metrics:</h3>"
   ]
  },
  {
   "cell_type": "code",
   "execution_count": 24,
   "id": "0e72d644",
   "metadata": {},
   "outputs": [
    {
     "name": "stdout",
     "output_type": "stream",
     "text": [
      "R2 Score: 0.9959081365263358\n",
      "Root Mean Squared Error: 0.06893033326078496\n"
     ]
    }
   ],
   "source": [
    "from sklearn import metrics  \n",
    "Dt_R2_score = metrics.r2_score(y_test, y_pred)\n",
    "print('R2 Score:', Dt_R2_score)  \n",
    "print('Root Mean Squared Error:', np.sqrt(metrics.mean_squared_error(y_test, y_pred)))  "
   ]
  },
  {
   "cell_type": "markdown",
   "id": "9d27f30e",
   "metadata": {},
   "source": [
    "## Random Forest Regression Model:\n",
    "\n",
    "<h3 style=\"color:#8B0000;\">Import RandomForestRegressor from sklearn ensemble class:</h3>\n"
   ]
  },
  {
   "cell_type": "code",
   "execution_count": 25,
   "id": "ccddf9e5",
   "metadata": {},
   "outputs": [],
   "source": [
    "from sklearn.ensemble import RandomForestRegressor "
   ]
  },
  {
   "cell_type": "markdown",
   "id": "d919753e",
   "metadata": {},
   "source": [
    "<h3 style=\"color:#8B0000;\">Initialize the RandomForestRegressor model with  n_estimators=100 parameters:</h3>"
   ]
  },
  {
   "cell_type": "code",
   "execution_count": 26,
   "id": "d47fea72",
   "metadata": {},
   "outputs": [],
   "source": [
    "Rf_Regressor = RandomForestRegressor(n_estimators=100, random_state=0,) "
   ]
  },
  {
   "cell_type": "markdown",
   "id": "def28f9c",
   "metadata": {},
   "source": [
    "<h3 style=\"color:#8B0000;\">Train the RandomForestRegressor model on trainig data set:</h3>"
   ]
  },
  {
   "cell_type": "code",
   "execution_count": 27,
   "id": "e981dabf",
   "metadata": {},
   "outputs": [
    {
     "data": {
      "text/plain": [
       "RandomForestRegressor(random_state=0)"
      ]
     },
     "execution_count": 27,
     "metadata": {},
     "output_type": "execute_result"
    }
   ],
   "source": [
    "Rf_Regressor.fit(X_train, y_train)"
   ]
  },
  {
   "cell_type": "markdown",
   "id": "7f799b2c",
   "metadata": {},
   "source": [
    "<h3 style=\"color:#8B0000;\">Make predictions using RandomForestRegressor mdoel and display the first 30 predicted values:</h3>"
   ]
  },
  {
   "cell_type": "code",
   "execution_count": 28,
   "id": "2a61e250",
   "metadata": {},
   "outputs": [
    {
     "data": {
      "text/plain": [
       "array([2.06434641e+00, 6.61124331e-01, 3.79479408e+00, 1.34782952e+00,\n",
       "       1.66370996e+00, 9.59026986e-02, 2.30163721e+00, 9.15881735e-05,\n",
       "       1.05648509e+00, 2.45018569e+00, 1.94061143e-01, 8.19633515e-01,\n",
       "       1.10413254e+00, 1.62135770e+00, 1.22923752e+00, 3.32834355e+00,\n",
       "       2.24013717e+00, 1.45955732e+00, 2.74693906e+00, 1.73420711e-01,\n",
       "       1.05958319e-01, 1.66757306e+00, 1.56164699e+00, 2.12932597e+00,\n",
       "       1.20492492e+00, 1.48811925e+00, 3.56588148e-01, 1.50647231e+00,\n",
       "       9.21994284e-02, 3.00011543e+00])"
      ]
     },
     "execution_count": 28,
     "metadata": {},
     "output_type": "execute_result"
    }
   ],
   "source": [
    "y_pred = Rf_Regressor.predict(X_test)\n",
    "y_pred[0:30]"
   ]
  },
  {
   "cell_type": "markdown",
   "id": "137b0c36",
   "metadata": {},
   "source": [
    "<h3 style=\"color:#8B0000;\">Compare the Actual Vs Predictd Values in the Test Set:</h3>"
   ]
  },
  {
   "cell_type": "code",
   "execution_count": 29,
   "id": "8f4cb7af",
   "metadata": {
    "scrolled": true
   },
   "outputs": [
    {
     "data": {
      "text/html": [
       "<div>\n",
       "<style scoped>\n",
       "    .dataframe tbody tr th:only-of-type {\n",
       "        vertical-align: middle;\n",
       "    }\n",
       "\n",
       "    .dataframe tbody tr th {\n",
       "        vertical-align: top;\n",
       "    }\n",
       "\n",
       "    .dataframe thead th {\n",
       "        text-align: right;\n",
       "    }\n",
       "</style>\n",
       "<table border=\"1\" class=\"dataframe\">\n",
       "  <thead>\n",
       "    <tr style=\"text-align: right;\">\n",
       "      <th></th>\n",
       "      <th>Actual</th>\n",
       "      <th>Predicted</th>\n",
       "    </tr>\n",
       "  </thead>\n",
       "  <tbody>\n",
       "    <tr>\n",
       "      <th>1156</th>\n",
       "      <td>2.051371</td>\n",
       "      <td>2.064346</td>\n",
       "    </tr>\n",
       "    <tr>\n",
       "      <th>10624</th>\n",
       "      <td>0.698625</td>\n",
       "      <td>0.661124</td>\n",
       "    </tr>\n",
       "    <tr>\n",
       "      <th>10610</th>\n",
       "      <td>3.804133</td>\n",
       "      <td>3.794794</td>\n",
       "    </tr>\n",
       "    <tr>\n",
       "      <th>8277</th>\n",
       "      <td>1.419651</td>\n",
       "      <td>1.347830</td>\n",
       "    </tr>\n",
       "    <tr>\n",
       "      <th>5094</th>\n",
       "      <td>1.663486</td>\n",
       "      <td>1.663710</td>\n",
       "    </tr>\n",
       "    <tr>\n",
       "      <th>9622</th>\n",
       "      <td>0.096846</td>\n",
       "      <td>0.095903</td>\n",
       "    </tr>\n",
       "    <tr>\n",
       "      <th>10289</th>\n",
       "      <td>2.301293</td>\n",
       "      <td>2.301637</td>\n",
       "    </tr>\n",
       "    <tr>\n",
       "      <th>4488</th>\n",
       "      <td>0.000080</td>\n",
       "      <td>0.000092</td>\n",
       "    </tr>\n",
       "    <tr>\n",
       "      <th>10771</th>\n",
       "      <td>1.092283</td>\n",
       "      <td>1.056485</td>\n",
       "    </tr>\n",
       "    <tr>\n",
       "      <th>6897</th>\n",
       "      <td>2.396177</td>\n",
       "      <td>2.450186</td>\n",
       "    </tr>\n",
       "  </tbody>\n",
       "</table>\n",
       "</div>"
      ],
      "text/plain": [
       "         Actual  Predicted\n",
       "1156   2.051371   2.064346\n",
       "10624  0.698625   0.661124\n",
       "10610  3.804133   3.794794\n",
       "8277   1.419651   1.347830\n",
       "5094   1.663486   1.663710\n",
       "9622   0.096846   0.095903\n",
       "10289  2.301293   2.301637\n",
       "4488   0.000080   0.000092\n",
       "10771  1.092283   1.056485\n",
       "6897   2.396177   2.450186"
      ]
     },
     "execution_count": 29,
     "metadata": {},
     "output_type": "execute_result"
    }
   ],
   "source": [
    "df3 = pd.DataFrame({'Actual': y_test, 'Predicted': y_pred})  \n",
    "df3.head(10)  "
   ]
  },
  {
   "cell_type": "markdown",
   "id": "dbffe363",
   "metadata": {},
   "source": [
    "<h3 style=\"color:#8B0000;\"> Evaluate the RandomForestRegressor Model Using R2 and  RMSE evaluation metrics:</h3>"
   ]
  },
  {
   "cell_type": "code",
   "execution_count": 30,
   "id": "391ac988",
   "metadata": {},
   "outputs": [
    {
     "name": "stdout",
     "output_type": "stream",
     "text": [
      "R2 Score: 0.9982433636071159\n",
      "Root Mean Squared Error: 0.045163828409566426\n"
     ]
    }
   ],
   "source": [
    "from sklearn import metrics  \n",
    "Rf_R2_score = metrics.r2_score(y_test, y_pred)\n",
    "print('R2 Score:', Rf_R2_score)  \n",
    "print('Root Mean Squared Error:', np.sqrt(metrics.mean_squared_error(y_test, y_pred)))  "
   ]
  },
  {
   "cell_type": "markdown",
   "id": "78feb0c9",
   "metadata": {},
   "source": [
    "### Conclusion: \n",
    "\n",
    "We can see that Decision Tree gave the performance of R2=  99.32% and RMSE = 0.088, whereas Random Forest gave the performance of R2 = 99.84% and RMSE = 0.042, both performed well on this data set but Random Forest seems performing a little better than Decision Tree in terms of evaluation metrics for predicting 'precent of population'."
   ]
  },
  {
   "cell_type": "markdown",
   "id": "5b5437ef",
   "metadata": {},
   "source": [
    "<h1 style=\"color:#008000;font-size:30px\">  Machine Learning Part for 'new cases of population' </h1>"
   ]
  },
  {
   "cell_type": "markdown",
   "id": "d875fd67",
   "metadata": {},
   "source": [
    "<h3 style=\"color:#8B0000;\">Make a copy of the day_count data frame to df2:</h3>"
   ]
  },
  {
   "cell_type": "code",
   "execution_count": 31,
   "id": "026e3e39",
   "metadata": {},
   "outputs": [],
   "source": [
    "df2 = day_count.copy()"
   ]
  },
  {
   "cell_type": "markdown",
   "id": "1d740868",
   "metadata": {},
   "source": [
    "<h3 style=\"color:#8B0000;\"> Make the histograme of 'new cases of population' column to see the distribution:</h3>"
   ]
  },
  {
   "cell_type": "code",
   "execution_count": 32,
   "id": "72935640",
   "metadata": {},
   "outputs": [
    {
     "data": {
      "image/png": "[encoded data removed]",
      "text/plain": [
       "<Figure size 864x576 with 1 Axes>"
      ]
     },
     "metadata": {
      "needs_background": "light"
     },
     "output_type": "display_data"
    }
   ],
   "source": [
    "df2[\"new cases of population\"].hist(figsize=(12,8))\n",
    "plt.xlabel(\"Distribution\",fontsize = 12)\n",
    "plt.ylabel(\"Values\",fontsize = 12)\n",
    "plt.title(\"new cases of population\",fontsize = 12)\n",
    "plt.show()"
   ]
  },
  {
   "cell_type": "markdown",
   "id": "60bc2c03",
   "metadata": {},
   "source": [
    " <h3 style=\"color:#8B0000;\"> Storing Features into \"X\" matrix and Response (new cases of population) into \"y\" vector:</h3>"
   ]
  },
  {
   "cell_type": "code",
   "execution_count": 33,
   "id": "4db3146b",
   "metadata": {},
   "outputs": [],
   "source": [
    "#Features\n",
    "X = day_count.loc[:,day_count.columns != 'new cases of population']\n",
    "#Response\n",
    "y = day_count['new cases of population']  "
   ]
  },
  {
   "cell_type": "markdown",
   "id": "1655cbd2",
   "metadata": {},
   "source": [
    "<h3 style=\"color:#8B0000;\">Divide the dataset into training set and testing set (80 percent train and 20 percent test):</h3>"
   ]
  },
  {
   "cell_type": "code",
   "execution_count": 34,
   "id": "3f6f31d6",
   "metadata": {},
   "outputs": [],
   "source": [
    "from sklearn.model_selection import train_test_split\n",
    "X_train, X_test, y_train, y_test = train_test_split(X, y, test_size=0.20, random_state=0)  "
   ]
  },
  {
   "cell_type": "markdown",
   "id": "51330fc3",
   "metadata": {},
   "source": [
    "## Decision Tree  Regression Model:\n",
    "\n",
    "<h3 style=\"color:#8B0000;\">Import DecisionTreeRegressor from sklearn tree class:</h3>\n"
   ]
  },
  {
   "cell_type": "code",
   "execution_count": 35,
   "id": "0b18edfa",
   "metadata": {},
   "outputs": [],
   "source": [
    "from sklearn.tree import DecisionTreeRegressor"
   ]
  },
  {
   "cell_type": "markdown",
   "id": "06b7864c",
   "metadata": {},
   "source": [
    "<h3 style=\"color:#8B0000;\">Initialize the DecisionTreeRegressor model with  default parameters:</h3>"
   ]
  },
  {
   "cell_type": "code",
   "execution_count": 36,
   "id": "08e4bd90",
   "metadata": {},
   "outputs": [],
   "source": [
    "Dt_regressor = DecisionTreeRegressor()"
   ]
  },
  {
   "cell_type": "markdown",
   "id": "194fb68a",
   "metadata": {},
   "source": [
    "<h3 style=\"color:#8B0000;\">Train the DecisionTreeRegressor model on trainig data set:</h3>"
   ]
  },
  {
   "cell_type": "code",
   "execution_count": 37,
   "id": "2508c3fe",
   "metadata": {},
   "outputs": [
    {
     "data": {
      "text/plain": [
       "DecisionTreeRegressor()"
      ]
     },
     "execution_count": 37,
     "metadata": {},
     "output_type": "execute_result"
    }
   ],
   "source": [
    "Dt_regressor.fit(X_train, y_train)"
   ]
  },
  {
   "cell_type": "markdown",
   "id": "8863600e",
   "metadata": {},
   "source": [
    "<h3 style=\"color:#8B0000;\">Make predictions using DecisionTreeRegressor and display the first 30 predicted values:</h3>"
   ]
  },
  {
   "cell_type": "code",
   "execution_count": 38,
   "id": "f0861f91",
   "metadata": {},
   "outputs": [
    {
     "data": {
      "text/plain": [
       "array([ 1.72690462e-02,  1.66430631e-02,  3.00897140e-03,  5.15203986e-03,\n",
       "        1.18226998e-02,  1.04821565e-02,  2.17571942e-02,  1.33109976e-02,\n",
       "        1.34190297e-02,  1.09149705e-01,  5.24425099e-03,  5.48358484e-03,\n",
       "       -1.00000000e+00,  6.60357257e-03,  4.83389773e-02,  4.41429638e-02,\n",
       "        6.45860267e-03,  1.14378547e-04,  1.11254865e-02,  2.65707231e-02,\n",
       "        1.09802921e-02,  0.00000000e+00,  2.10049885e-03,  3.96155953e-02,\n",
       "        1.57463419e-02,  1.60788297e-02,  1.35097534e-02,  1.13788580e-03,\n",
       "        5.30776828e-03,  2.02917960e-03])"
      ]
     },
     "execution_count": 38,
     "metadata": {},
     "output_type": "execute_result"
    }
   ],
   "source": [
    "y_pred = Dt_regressor.predict(X_test)\n",
    "y_pred[0:30]"
   ]
  },
  {
   "cell_type": "markdown",
   "id": "b2ee51d7",
   "metadata": {},
   "source": [
    "<h3 style=\"color:#8B0000;\">Compare the Actual Vs Predictd Values in the Test Set:</h3>"
   ]
  },
  {
   "cell_type": "code",
   "execution_count": 39,
   "id": "ef4f3989",
   "metadata": {},
   "outputs": [
    {
     "data": {
      "text/html": [
       "<div>\n",
       "<style scoped>\n",
       "    .dataframe tbody tr th:only-of-type {\n",
       "        vertical-align: middle;\n",
       "    }\n",
       "\n",
       "    .dataframe tbody tr th {\n",
       "        vertical-align: top;\n",
       "    }\n",
       "\n",
       "    .dataframe thead th {\n",
       "        text-align: right;\n",
       "    }\n",
       "</style>\n",
       "<table border=\"1\" class=\"dataframe\">\n",
       "  <thead>\n",
       "    <tr style=\"text-align: right;\">\n",
       "      <th></th>\n",
       "      <th>Actual</th>\n",
       "      <th>Predicted</th>\n",
       "    </tr>\n",
       "  </thead>\n",
       "  <tbody>\n",
       "    <tr>\n",
       "      <th>92023</th>\n",
       "      <td>0.016766</td>\n",
       "      <td>0.017269</td>\n",
       "    </tr>\n",
       "    <tr>\n",
       "      <th>23888</th>\n",
       "      <td>0.016539</td>\n",
       "      <td>0.016643</td>\n",
       "    </tr>\n",
       "    <tr>\n",
       "      <th>39467</th>\n",
       "      <td>0.002847</td>\n",
       "      <td>0.003009</td>\n",
       "    </tr>\n",
       "    <tr>\n",
       "      <th>34830</th>\n",
       "      <td>0.005162</td>\n",
       "      <td>0.005152</td>\n",
       "    </tr>\n",
       "    <tr>\n",
       "      <th>48839</th>\n",
       "      <td>0.012353</td>\n",
       "      <td>0.011823</td>\n",
       "    </tr>\n",
       "    <tr>\n",
       "      <th>95141</th>\n",
       "      <td>0.010305</td>\n",
       "      <td>0.010482</td>\n",
       "    </tr>\n",
       "    <tr>\n",
       "      <th>6455</th>\n",
       "      <td>0.021619</td>\n",
       "      <td>0.021757</td>\n",
       "    </tr>\n",
       "    <tr>\n",
       "      <th>31207</th>\n",
       "      <td>0.014060</td>\n",
       "      <td>0.013311</td>\n",
       "    </tr>\n",
       "    <tr>\n",
       "      <th>67833</th>\n",
       "      <td>0.013465</td>\n",
       "      <td>0.013419</td>\n",
       "    </tr>\n",
       "    <tr>\n",
       "      <th>54110</th>\n",
       "      <td>0.119880</td>\n",
       "      <td>0.109150</td>\n",
       "    </tr>\n",
       "  </tbody>\n",
       "</table>\n",
       "</div>"
      ],
      "text/plain": [
       "         Actual  Predicted\n",
       "92023  0.016766   0.017269\n",
       "23888  0.016539   0.016643\n",
       "39467  0.002847   0.003009\n",
       "34830  0.005162   0.005152\n",
       "48839  0.012353   0.011823\n",
       "95141  0.010305   0.010482\n",
       "6455   0.021619   0.021757\n",
       "31207  0.014060   0.013311\n",
       "67833  0.013465   0.013419\n",
       "54110  0.119880   0.109150"
      ]
     },
     "execution_count": 39,
     "metadata": {},
     "output_type": "execute_result"
    }
   ],
   "source": [
    "df2 = pd.DataFrame({'Actual': y_test, 'Predicted': y_pred})  \n",
    "df2.head(10)  "
   ]
  },
  {
   "cell_type": "markdown",
   "id": "d23eb9fe",
   "metadata": {},
   "source": [
    "<h3 style=\"color:#8B0000;\"> Evaluate the DecisionTreeRegressor Model Using R2 and  RMSE evaluation metrics:</h3>"
   ]
  },
  {
   "cell_type": "code",
   "execution_count": 40,
   "id": "81e2cc77",
   "metadata": {},
   "outputs": [
    {
     "name": "stdout",
     "output_type": "stream",
     "text": [
      "R2 Score: 0.9998201217736046\n",
      "Root Mean Squared Error: 0.0031413521491128462\n"
     ]
    }
   ],
   "source": [
    "from sklearn import metrics  \n",
    "Dt_R2_score = metrics.r2_score(y_test, y_pred)\n",
    "print('R2 Score:', Dt_R2_score)  \n",
    "print('Root Mean Squared Error:', np.sqrt(metrics.mean_squared_error(y_test, y_pred)))  "
   ]
  },
  {
   "cell_type": "markdown",
   "id": "0d52c949",
   "metadata": {},
   "source": [
    "## Random Forest Regression Model:\n",
    "\n",
    "<h3 style=\"color:#8B0000;\">Import RandomForestRegressor from sklearn ensemble class:</h3>\n"
   ]
  },
  {
   "cell_type": "code",
   "execution_count": 41,
   "id": "72fd8efe",
   "metadata": {},
   "outputs": [],
   "source": [
    "from sklearn.ensemble import RandomForestRegressor "
   ]
  },
  {
   "cell_type": "markdown",
   "id": "75c79f20",
   "metadata": {},
   "source": [
    "<h3 style=\"color:#8B0000;\">Initialize the RandomForestRegressor model with  n_estimators=100 parameters:</h3>"
   ]
  },
  {
   "cell_type": "code",
   "execution_count": 42,
   "id": "d862b890",
   "metadata": {},
   "outputs": [],
   "source": [
    "Rf_Regressor = RandomForestRegressor(n_estimators=100, random_state=0,) "
   ]
  },
  {
   "cell_type": "markdown",
   "id": "d097fb76",
   "metadata": {},
   "source": [
    "<h3 style=\"color:#8B0000;\">Train the RandomForestRegressor model on trainig data set:</h3>"
   ]
  },
  {
   "cell_type": "code",
   "execution_count": 43,
   "id": "532325c6",
   "metadata": {},
   "outputs": [
    {
     "data": {
      "text/plain": [
       "RandomForestRegressor(random_state=0)"
      ]
     },
     "execution_count": 43,
     "metadata": {},
     "output_type": "execute_result"
    }
   ],
   "source": [
    "Rf_Regressor.fit(X_train, y_train)"
   ]
  },
  {
   "cell_type": "markdown",
   "id": "afd9a62c",
   "metadata": {},
   "source": [
    "<h3 style=\"color:#8B0000;\">Make predictions using RandomForestRegressor mdoel and display the first 30 predicted values:</h3>"
   ]
  },
  {
   "cell_type": "code",
   "execution_count": 44,
   "id": "dee21639",
   "metadata": {},
   "outputs": [
    {
     "data": {
      "text/plain": [
       "array([ 1.64057866e-02,  1.66391493e-02,  3.07745962e-03,  5.11565955e-03,\n",
       "        1.23254591e-02,  1.01835218e-02,  2.14866317e-02,  1.38608677e-02,\n",
       "        1.33476067e-02,  1.16459128e-01,  5.24425099e-03,  5.70398717e-03,\n",
       "       -1.00000000e+00,  7.80491470e-03,  4.86822552e-02,  4.50916579e-02,\n",
       "        6.87627384e-03,  1.25872627e-04,  1.15628679e-02,  2.68384264e-02,\n",
       "        1.10003462e-02,  0.00000000e+00,  2.11094362e-03,  3.94115613e-02,\n",
       "        1.58986620e-02,  1.60207305e-02,  1.34852277e-02,  1.21128723e-03,\n",
       "        1.21405834e-02,  2.02348084e-03])"
      ]
     },
     "execution_count": 44,
     "metadata": {},
     "output_type": "execute_result"
    }
   ],
   "source": [
    "y_pred = Rf_Regressor.predict(X_test)\n",
    "y_pred[0:30]"
   ]
  },
  {
   "cell_type": "markdown",
   "id": "9a31478c",
   "metadata": {},
   "source": [
    "<h3 style=\"color:#8B0000;\">Compare the Actual Vs Predictd Values in the Test Set:</h3>"
   ]
  },
  {
   "cell_type": "code",
   "execution_count": 45,
   "id": "e1ce8c52",
   "metadata": {},
   "outputs": [
    {
     "data": {
      "text/html": [
       "<div>\n",
       "<style scoped>\n",
       "    .dataframe tbody tr th:only-of-type {\n",
       "        vertical-align: middle;\n",
       "    }\n",
       "\n",
       "    .dataframe tbody tr th {\n",
       "        vertical-align: top;\n",
       "    }\n",
       "\n",
       "    .dataframe thead th {\n",
       "        text-align: right;\n",
       "    }\n",
       "</style>\n",
       "<table border=\"1\" class=\"dataframe\">\n",
       "  <thead>\n",
       "    <tr style=\"text-align: right;\">\n",
       "      <th></th>\n",
       "      <th>Actual</th>\n",
       "      <th>Predicted</th>\n",
       "    </tr>\n",
       "  </thead>\n",
       "  <tbody>\n",
       "    <tr>\n",
       "      <th>92023</th>\n",
       "      <td>0.016766</td>\n",
       "      <td>0.016406</td>\n",
       "    </tr>\n",
       "    <tr>\n",
       "      <th>23888</th>\n",
       "      <td>0.016539</td>\n",
       "      <td>0.016639</td>\n",
       "    </tr>\n",
       "    <tr>\n",
       "      <th>39467</th>\n",
       "      <td>0.002847</td>\n",
       "      <td>0.003077</td>\n",
       "    </tr>\n",
       "    <tr>\n",
       "      <th>34830</th>\n",
       "      <td>0.005162</td>\n",
       "      <td>0.005116</td>\n",
       "    </tr>\n",
       "    <tr>\n",
       "      <th>48839</th>\n",
       "      <td>0.012353</td>\n",
       "      <td>0.012325</td>\n",
       "    </tr>\n",
       "    <tr>\n",
       "      <th>95141</th>\n",
       "      <td>0.010305</td>\n",
       "      <td>0.010184</td>\n",
       "    </tr>\n",
       "    <tr>\n",
       "      <th>6455</th>\n",
       "      <td>0.021619</td>\n",
       "      <td>0.021487</td>\n",
       "    </tr>\n",
       "    <tr>\n",
       "      <th>31207</th>\n",
       "      <td>0.014060</td>\n",
       "      <td>0.013861</td>\n",
       "    </tr>\n",
       "    <tr>\n",
       "      <th>67833</th>\n",
       "      <td>0.013465</td>\n",
       "      <td>0.013348</td>\n",
       "    </tr>\n",
       "    <tr>\n",
       "      <th>54110</th>\n",
       "      <td>0.119880</td>\n",
       "      <td>0.116459</td>\n",
       "    </tr>\n",
       "  </tbody>\n",
       "</table>\n",
       "</div>"
      ],
      "text/plain": [
       "         Actual  Predicted\n",
       "92023  0.016766   0.016406\n",
       "23888  0.016539   0.016639\n",
       "39467  0.002847   0.003077\n",
       "34830  0.005162   0.005116\n",
       "48839  0.012353   0.012325\n",
       "95141  0.010305   0.010184\n",
       "6455   0.021619   0.021487\n",
       "31207  0.014060   0.013861\n",
       "67833  0.013465   0.013348\n",
       "54110  0.119880   0.116459"
      ]
     },
     "execution_count": 45,
     "metadata": {},
     "output_type": "execute_result"
    }
   ],
   "source": [
    "df3 = pd.DataFrame({'Actual': y_test, 'Predicted': y_pred})  \n",
    "df3.head(10)  "
   ]
  },
  {
   "cell_type": "markdown",
   "id": "573846ed",
   "metadata": {},
   "source": [
    "<h3 style=\"color:#8B0000;\"> Evaluate the RandomForestRegressor Model Using R2 and  RMSE evaluation metrics:</h3>"
   ]
  },
  {
   "cell_type": "code",
   "execution_count": 46,
   "id": "8dbef91b",
   "metadata": {},
   "outputs": [
    {
     "name": "stdout",
     "output_type": "stream",
     "text": [
      "R2 Score: 0.9993000216337925\n",
      "Root Mean Squared Error: 0.006196830747365427\n"
     ]
    }
   ],
   "source": [
    "from sklearn import metrics  \n",
    "Rf_R2_score = metrics.r2_score(y_test, y_pred)\n",
    "print('R2 Score:', Rf_R2_score)  \n",
    "print('Root Mean Squared Error:', np.sqrt(metrics.mean_squared_error(y_test, y_pred)))  "
   ]
  },
  {
   "cell_type": "markdown",
   "id": "4fe8e73b",
   "metadata": {},
   "source": [
    "### Conclusion: \n",
    "\n",
    "We can see that Decision Tree gave the performance of R2=  99.14% and RMSE = 0.0212, whereas Random Forest gave the performance of R2 = 99.76% and RMSE = 0.0112, both performed well on this data set but Random Forest seems performing a little better than Decision Tree in terms of evaluation metrics to predit 'new cases of population' using this data set."
   ]
  },
  {
   "cell_type": "code",
   "execution_count": null,
   "id": "7e424d26",
   "metadata": {},
   "outputs": [],
   "source": []
  },
  {
   "cell_type": "code",
   "execution_count": null,
   "id": "75f23f98",
   "metadata": {},
   "outputs": [],
   "source": []
  },
  {
   "cell_type": "code",
   "execution_count": null,
   "id": "7e6e0e8a",
   "metadata": {},
   "outputs": [],
   "source": []
  },
  {
   "cell_type": "code",
   "execution_count": null,
   "id": "e09ae89c",
   "metadata": {},
   "outputs": [],
   "source": []
  },
  {
   "cell_type": "code",
   "execution_count": null,
   "id": "db085f2b",
   "metadata": {},
   "outputs": [],
   "source": []
  },
  {
   "cell_type": "code",
   "execution_count": null,
   "id": "c953aee3",
   "metadata": {},
   "outputs": [],
   "source": []
  },
  {
   "cell_type": "code",
   "execution_count": null,
   "id": "b46e382a",
   "metadata": {},
   "outputs": [],
   "source": []
  }
 ],
 "metadata": {
  "kernelspec": {
   "display_name": "Python 3 (ipykernel)",
   "language": "python",
   "name": "python3"
  },
  "language_info": {
   "codemirror_mode": {
    "name": "ipython",
    "version": 3
   },
   "file_extension": ".py",
   "mimetype": "text/x-python",
   "name": "python",
   "nbconvert_exporter": "python",
   "pygments_lexer": "ipython3",
   "version": "3.8.5"
  }
 },
 "nbformat": 4,
 "nbformat_minor": 5
}
